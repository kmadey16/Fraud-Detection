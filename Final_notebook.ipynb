{
 "cells": [
  {
   "cell_type": "markdown",
   "metadata": {},
   "source": [
    "# Credit card fraud identification in financial payment services"
   ]
  },
  {
   "cell_type": "markdown",
   "metadata": {},
   "source": [
    "## Table of Contents\n",
    "\n",
    "1. [Introduction](#1.-Introduction)    \n",
    "    1.1 [Description](#1.1-Description)  \n",
    "    1.2 [Issues](#1.2-Issues)  \n",
    "    1.3 [Goal](#1.3-Goal)  \n",
    "2. [Data Wrangling](#2.-Wrangling)\n",
    "3. [EDA](#3.-EDA)  \n",
    "    3.1 [Heatmap_correlations](#3.1-Correlations)  \n",
    "    3.2 [Amount_distributions](#3.2-Amount_distributions)  \n",
    "    3.3 [Central_tendency](#3.3-Central_tendency)  \n",
    "    3.4 [Time_series](#3.4-Time_series)\n",
    "    \n",
    "4. [Feature_Engineering](#4.-Feature_Engineering)\n",
    "5. [Modeling](#5.-Modeling)  \n",
    "    5.1 [Random_sampling_and_scaling](#5.1-Random_Sampling_and_scaling)  \n",
    "    5.2 [Logistic_Regression](#5.2-Logistic_Regression)  \n",
    "    5.3 [Decision_Tree](#5.3-Decision_Tree)  \n",
    "    5.4 [Random_Forest_undersampled](#5.4-Random_Forest_undersampled)  \n",
    "    5.5 [Random_Forest_class_weight](#5.5-Random_Forest_class_weight)  \n",
    "    5.6 [Two_features](#5.6-Two_features)  \n",
    "    5.7 [Gradient_Boosting](#5.7-Gradient_Boosting)  \n",
    "\n",
    "6. [Model_evaluation](#6.-Model_evaluation)  \n",
    "7. [Conclusion](#7.-Conclusion)  "
   ]
  },
  {
   "cell_type": "markdown",
   "metadata": {},
   "source": [
    "## 1. Introduction"
   ]
  },
  {
   "cell_type": "markdown",
   "metadata": {},
   "source": [
    "The tricky part about transactional data is that due to the private nature of transactions, there aren't any publicly available datasets. Yet transactional data is still needed for continued research into fraud detection. \n",
    "\n",
    "The simulated data used here is based on a simulator called PaySim which helps bridge the gap between unavailable public data and the need to continue improving fraud detection systems. PaySim utilizes aggregated real world data taken from a private dataset to generate synthetic transactional data resembling normal transactions.\n",
    "This real world data is a sample of real transactions extracted from financial logs from a mobile money service implemented in an African country. More information about the data can be found here: https://www.kaggle.com/ealaxi/paysim1 \n",
    "\n",
    "The main challenge the dataset poses to predicting fraud is the highly imbalanced distribution between positive and negative classes in 6 million rows of data.\n"
   ]
  },
  {
   "cell_type": "markdown",
   "metadata": {},
   "source": [
    "### 1.1 Description"
   ]
  },
  {
   "cell_type": "markdown",
   "metadata": {},
   "source": [
    "1. step - maps a unit of time in the real world. In this case 1 step is 1 hour of time. Total steps 744 (30 days simulation).\n",
    "2. type - CASH-IN, CASH-OUT, DEBIT, PAYMENT and TRANSFER.\n",
    "3. amount - amount of the transaction in local currency.\n",
    "4. nameOrig - customer who started the transaction\n",
    "5. oldbalanceOrg - initial balance before the transaction\n",
    "6. newbalanceOrig - new balance after the transaction\n",
    "7. nameDest - customer who is the recipient of the transaction\n",
    "8. oldbalanceDest - initial balance recipient before the transaction. Note that there is not information for customers that start with M (Merchants).\n",
    "9. newbalanceDest - new balance recipient after the transaction. Note that there is not information for customers that start with M (Merchants).\n",
    "10. isFraud - This is the transactions made by the fraudulent agents inside the simulation. In this specific dataset the fraudulent behavior of the agents aims to profit by taking control or customers accounts and try to empty the funds by transferring to another account and then cashing out of the system.\n",
    "11. isFlaggedFraud - The business model aims to control massive transfers from one account to another and flags illegal attempts. An illegal attempt in this dataset is an attempt to transfer more than 200.000 in a single transaction."
   ]
  },
  {
   "cell_type": "markdown",
   "metadata": {},
   "source": [
    "### 1.2 Issues"
   ]
  },
  {
   "cell_type": "markdown",
   "metadata": {},
   "source": [
    "This dataset does come with several issues in it. \n",
    "The first is that the data is heavily imbalanced. There are over 6 million transactions and only ~8000 are fraud. We tackle this problem in the EDA section and again in modeling with sampling.\n",
    "\n",
    "Another issue is that the isFlaggedFraud column only has 16 positive labels and the description of the isFlagged column does not match what is seen in the data. \n",
    "\n",
    "Another issue is that a lot of the transaction balances between the originating account and destination account don't match the amount transacted. This is highlighted in the feature engineering section.\n",
    "\n",
    "We attempt to address some of these issues as we work through the EDA, feature engineering, and modeling sections. "
   ]
  },
  {
   "cell_type": "markdown",
   "metadata": {},
   "source": [
    "### 1.3 Goal"
   ]
  },
  {
   "cell_type": "markdown",
   "metadata": {},
   "source": [
    "The most common strategy in place for identifying potentially fraudulent transactions is to place a limit on the transaction amount; this is what the Paysim system attempts to do. This approach can work but it does have downsides and can be exploited and negatively impact the customer experience. A more intricate approach is necessary as technology continues to evolve.  \n",
    "\n",
    "We want to be able to better predict and label fraud transactions when they occur. The current system has a fraud loss of just over $12 billion. Many customers are leaving for alternative options and potential customers are hesitant to sign up with this company. \n",
    "\n",
    "In our business scenario, we work for a payment processing startup which has identified a major flaw in its technology. Too many of their customers are losing money to fraudulent transactions. Specifically, the system is not catching fraud transactions and thinks a lot of them are legitimate.  \n",
    "\n",
    "The goal is to create a more robust and intelligent classifier to be able to catch these transactions and reduce the fraud loss by $3 billion.\n",
    "\n",
    "We do this through identifying what features correlate to existing fraud transactions and creating new features from those to help identify new ones. "
   ]
  },
  {
   "cell_type": "markdown",
   "metadata": {},
   "source": [
    "# 2. Wrangling"
   ]
  },
  {
   "cell_type": "code",
   "execution_count": 3,
   "metadata": {},
   "outputs": [],
   "source": [
    "# We can start by importing necessary libraries\n",
    "\n",
    "import numpy as np\n",
    "import matplotlib.pyplot as plt\n",
    "import seaborn as sns\n",
    "import pandas as pd\n",
    "from sklearn import metrics\n",
    "from sklearn.ensemble import GradientBoostingClassifier, RandomForestClassifier\n",
    "from sklearn.tree import DecisionTreeClassifier\n",
    "from sklearn.model_selection import GridSearchCV\n",
    "from sklearn.linear_model import LogisticRegression\n",
    "from imblearn.under_sampling import RandomUnderSampler\n",
    "from imblearn.over_sampling import RandomOverSampler\n",
    "from collections import Counter\n",
    "from sklearn.preprocessing import StandardScaler\n",
    "from timeit import default_timer as timer\n",
    "from imblearn.pipeline import Pipeline\n",
    "from sklearn.compose import ColumnTransformer\n",
    "from sklearn.dummy import DummyClassifier\n",
    "from sklearn.metrics import classification_report, f1_score, roc_auc_score, confusion_matrix\n",
    "from sklearn.model_selection import train_test_split\n",
    "import warnings\n",
    "warnings.filterwarnings(\"ignore\")"
   ]
  },
  {
   "cell_type": "code",
   "execution_count": 4,
   "metadata": {},
   "outputs": [
    {
     "data": {
      "text/html": [
       "<div>\n",
       "<style scoped>\n",
       "    .dataframe tbody tr th:only-of-type {\n",
       "        vertical-align: middle;\n",
       "    }\n",
       "\n",
       "    .dataframe tbody tr th {\n",
       "        vertical-align: top;\n",
       "    }\n",
       "\n",
       "    .dataframe thead th {\n",
       "        text-align: right;\n",
       "    }\n",
       "</style>\n",
       "<table border=\"1\" class=\"dataframe\">\n",
       "  <thead>\n",
       "    <tr style=\"text-align: right;\">\n",
       "      <th></th>\n",
       "      <th>step</th>\n",
       "      <th>type</th>\n",
       "      <th>amount</th>\n",
       "      <th>nameOrig</th>\n",
       "      <th>oldbalanceOrg</th>\n",
       "      <th>newbalanceOrig</th>\n",
       "      <th>nameDest</th>\n",
       "      <th>oldbalanceDest</th>\n",
       "      <th>newbalanceDest</th>\n",
       "      <th>isFraud</th>\n",
       "      <th>isFlaggedFraud</th>\n",
       "    </tr>\n",
       "  </thead>\n",
       "  <tbody>\n",
       "    <tr>\n",
       "      <th>0</th>\n",
       "      <td>1</td>\n",
       "      <td>PAYMENT</td>\n",
       "      <td>9839.64</td>\n",
       "      <td>C1231006815</td>\n",
       "      <td>170136.0</td>\n",
       "      <td>160296.36</td>\n",
       "      <td>M1979787155</td>\n",
       "      <td>0.0</td>\n",
       "      <td>0.0</td>\n",
       "      <td>0</td>\n",
       "      <td>0</td>\n",
       "    </tr>\n",
       "    <tr>\n",
       "      <th>1</th>\n",
       "      <td>1</td>\n",
       "      <td>PAYMENT</td>\n",
       "      <td>1864.28</td>\n",
       "      <td>C1666544295</td>\n",
       "      <td>21249.0</td>\n",
       "      <td>19384.72</td>\n",
       "      <td>M2044282225</td>\n",
       "      <td>0.0</td>\n",
       "      <td>0.0</td>\n",
       "      <td>0</td>\n",
       "      <td>0</td>\n",
       "    </tr>\n",
       "    <tr>\n",
       "      <th>2</th>\n",
       "      <td>1</td>\n",
       "      <td>TRANSFER</td>\n",
       "      <td>181.00</td>\n",
       "      <td>C1305486145</td>\n",
       "      <td>181.0</td>\n",
       "      <td>0.00</td>\n",
       "      <td>C553264065</td>\n",
       "      <td>0.0</td>\n",
       "      <td>0.0</td>\n",
       "      <td>1</td>\n",
       "      <td>0</td>\n",
       "    </tr>\n",
       "    <tr>\n",
       "      <th>3</th>\n",
       "      <td>1</td>\n",
       "      <td>CASH_OUT</td>\n",
       "      <td>181.00</td>\n",
       "      <td>C840083671</td>\n",
       "      <td>181.0</td>\n",
       "      <td>0.00</td>\n",
       "      <td>C38997010</td>\n",
       "      <td>21182.0</td>\n",
       "      <td>0.0</td>\n",
       "      <td>1</td>\n",
       "      <td>0</td>\n",
       "    </tr>\n",
       "    <tr>\n",
       "      <th>4</th>\n",
       "      <td>1</td>\n",
       "      <td>PAYMENT</td>\n",
       "      <td>11668.14</td>\n",
       "      <td>C2048537720</td>\n",
       "      <td>41554.0</td>\n",
       "      <td>29885.86</td>\n",
       "      <td>M1230701703</td>\n",
       "      <td>0.0</td>\n",
       "      <td>0.0</td>\n",
       "      <td>0</td>\n",
       "      <td>0</td>\n",
       "    </tr>\n",
       "  </tbody>\n",
       "</table>\n",
       "</div>"
      ],
      "text/plain": [
       "   step      type    amount     nameOrig  oldbalanceOrg  newbalanceOrig  \\\n",
       "0     1   PAYMENT   9839.64  C1231006815       170136.0       160296.36   \n",
       "1     1   PAYMENT   1864.28  C1666544295        21249.0        19384.72   \n",
       "2     1  TRANSFER    181.00  C1305486145          181.0            0.00   \n",
       "3     1  CASH_OUT    181.00   C840083671          181.0            0.00   \n",
       "4     1   PAYMENT  11668.14  C2048537720        41554.0        29885.86   \n",
       "\n",
       "      nameDest  oldbalanceDest  newbalanceDest  isFraud  isFlaggedFraud  \n",
       "0  M1979787155             0.0             0.0        0               0  \n",
       "1  M2044282225             0.0             0.0        0               0  \n",
       "2   C553264065             0.0             0.0        1               0  \n",
       "3    C38997010         21182.0             0.0        1               0  \n",
       "4  M1230701703             0.0             0.0        0               0  "
      ]
     },
     "execution_count": 4,
     "metadata": {},
     "output_type": "execute_result"
    }
   ],
   "source": [
    "# This gives us a first look at the data\n",
    "df = pd.read_csv('fraud_data.csv')\n",
    "df.head()"
   ]
  },
  {
   "cell_type": "code",
   "execution_count": 5,
   "metadata": {},
   "outputs": [
    {
     "data": {
      "text/plain": [
       "step              0\n",
       "type              0\n",
       "amount            0\n",
       "nameOrig          0\n",
       "oldbalanceOrg     0\n",
       "newbalanceOrig    0\n",
       "nameDest          0\n",
       "oldbalanceDest    0\n",
       "newbalanceDest    0\n",
       "isFraud           0\n",
       "isFlaggedFraud    0\n",
       "dtype: int64"
      ]
     },
     "execution_count": 5,
     "metadata": {},
     "output_type": "execute_result"
    }
   ],
   "source": [
    "# We can start by checking for any null values\n",
    "# We can see that there are no null values!\n",
    "\n",
    "df.isnull().sum()"
   ]
  },
  {
   "cell_type": "code",
   "execution_count": 6,
   "metadata": {},
   "outputs": [
    {
     "data": {
      "text/html": [
       "<div>\n",
       "<style scoped>\n",
       "    .dataframe tbody tr th:only-of-type {\n",
       "        vertical-align: middle;\n",
       "    }\n",
       "\n",
       "    .dataframe tbody tr th {\n",
       "        vertical-align: top;\n",
       "    }\n",
       "\n",
       "    .dataframe thead th {\n",
       "        text-align: right;\n",
       "    }\n",
       "</style>\n",
       "<table border=\"1\" class=\"dataframe\">\n",
       "  <thead>\n",
       "    <tr style=\"text-align: right;\">\n",
       "      <th></th>\n",
       "      <th>amount</th>\n",
       "      <th>oldbalanceOrg</th>\n",
       "      <th>newbalanceOrig</th>\n",
       "      <th>oldbalanceDest</th>\n",
       "      <th>newbalanceDest</th>\n",
       "    </tr>\n",
       "  </thead>\n",
       "  <tbody>\n",
       "    <tr>\n",
       "      <th>count</th>\n",
       "      <td>6.362620e+06</td>\n",
       "      <td>6.362620e+06</td>\n",
       "      <td>6.362620e+06</td>\n",
       "      <td>6.362620e+06</td>\n",
       "      <td>6.362620e+06</td>\n",
       "    </tr>\n",
       "    <tr>\n",
       "      <th>mean</th>\n",
       "      <td>1.798619e+05</td>\n",
       "      <td>8.338831e+05</td>\n",
       "      <td>8.551137e+05</td>\n",
       "      <td>1.100702e+06</td>\n",
       "      <td>1.224996e+06</td>\n",
       "    </tr>\n",
       "    <tr>\n",
       "      <th>std</th>\n",
       "      <td>6.038582e+05</td>\n",
       "      <td>2.888243e+06</td>\n",
       "      <td>2.924049e+06</td>\n",
       "      <td>3.399180e+06</td>\n",
       "      <td>3.674129e+06</td>\n",
       "    </tr>\n",
       "    <tr>\n",
       "      <th>min</th>\n",
       "      <td>0.000000e+00</td>\n",
       "      <td>0.000000e+00</td>\n",
       "      <td>0.000000e+00</td>\n",
       "      <td>0.000000e+00</td>\n",
       "      <td>0.000000e+00</td>\n",
       "    </tr>\n",
       "    <tr>\n",
       "      <th>25%</th>\n",
       "      <td>1.338957e+04</td>\n",
       "      <td>0.000000e+00</td>\n",
       "      <td>0.000000e+00</td>\n",
       "      <td>0.000000e+00</td>\n",
       "      <td>0.000000e+00</td>\n",
       "    </tr>\n",
       "    <tr>\n",
       "      <th>50%</th>\n",
       "      <td>7.487194e+04</td>\n",
       "      <td>1.420800e+04</td>\n",
       "      <td>0.000000e+00</td>\n",
       "      <td>1.327057e+05</td>\n",
       "      <td>2.146614e+05</td>\n",
       "    </tr>\n",
       "    <tr>\n",
       "      <th>75%</th>\n",
       "      <td>2.087215e+05</td>\n",
       "      <td>1.073152e+05</td>\n",
       "      <td>1.442584e+05</td>\n",
       "      <td>9.430367e+05</td>\n",
       "      <td>1.111909e+06</td>\n",
       "    </tr>\n",
       "    <tr>\n",
       "      <th>max</th>\n",
       "      <td>9.244552e+07</td>\n",
       "      <td>5.958504e+07</td>\n",
       "      <td>4.958504e+07</td>\n",
       "      <td>3.560159e+08</td>\n",
       "      <td>3.561793e+08</td>\n",
       "    </tr>\n",
       "  </tbody>\n",
       "</table>\n",
       "</div>"
      ],
      "text/plain": [
       "             amount  oldbalanceOrg  newbalanceOrig  oldbalanceDest  \\\n",
       "count  6.362620e+06   6.362620e+06    6.362620e+06    6.362620e+06   \n",
       "mean   1.798619e+05   8.338831e+05    8.551137e+05    1.100702e+06   \n",
       "std    6.038582e+05   2.888243e+06    2.924049e+06    3.399180e+06   \n",
       "min    0.000000e+00   0.000000e+00    0.000000e+00    0.000000e+00   \n",
       "25%    1.338957e+04   0.000000e+00    0.000000e+00    0.000000e+00   \n",
       "50%    7.487194e+04   1.420800e+04    0.000000e+00    1.327057e+05   \n",
       "75%    2.087215e+05   1.073152e+05    1.442584e+05    9.430367e+05   \n",
       "max    9.244552e+07   5.958504e+07    4.958504e+07    3.560159e+08   \n",
       "\n",
       "       newbalanceDest  \n",
       "count    6.362620e+06  \n",
       "mean     1.224996e+06  \n",
       "std      3.674129e+06  \n",
       "min      0.000000e+00  \n",
       "25%      0.000000e+00  \n",
       "50%      2.146614e+05  \n",
       "75%      1.111909e+06  \n",
       "max      3.561793e+08  "
      ]
     },
     "execution_count": 6,
     "metadata": {},
     "output_type": "execute_result"
    }
   ],
   "source": [
    "# A few of the columns we can look at in detail are amount, old and new origin balance, old and new destination balance \n",
    "\n",
    "df[['amount', 'oldbalanceOrg', 'newbalanceOrig','oldbalanceDest', 'newbalanceDest']].describe()"
   ]
  },
  {
   "cell_type": "code",
   "execution_count": 7,
   "metadata": {},
   "outputs": [
    {
     "name": "stdout",
     "output_type": "stream",
     "text": [
      "<class 'pandas.core.frame.DataFrame'>\n",
      "RangeIndex: 6362620 entries, 0 to 6362619\n",
      "Data columns (total 11 columns):\n",
      " #   Column          Dtype  \n",
      "---  ------          -----  \n",
      " 0   step            int64  \n",
      " 1   type            object \n",
      " 2   amount          float64\n",
      " 3   nameOrig        object \n",
      " 4   oldbalanceOrg   float64\n",
      " 5   newbalanceOrig  float64\n",
      " 6   nameDest        object \n",
      " 7   oldbalanceDest  float64\n",
      " 8   newbalanceDest  float64\n",
      " 9   isFraud         int64  \n",
      " 10  isFlaggedFraud  int64  \n",
      "dtypes: float64(5), int64(3), object(3)\n",
      "memory usage: 534.0+ MB\n"
     ]
    }
   ],
   "source": [
    "# We can also verify the data types\n",
    "df.info()"
   ]
  },
  {
   "cell_type": "markdown",
   "metadata": {},
   "source": [
    "# 3. EDA"
   ]
  },
  {
   "cell_type": "markdown",
   "metadata": {},
   "source": [
    "We can first get a look of a breakdown of our transactions by type"
   ]
  },
  {
   "cell_type": "code",
   "execution_count": 8,
   "metadata": {},
   "outputs": [
    {
     "data": {
      "image/png": "[encoded data removed]",
      "text/plain": [
       "<Figure size 576x432 with 1 Axes>"
      ]
     },
     "metadata": {
      "needs_background": "light"
     },
     "output_type": "display_data"
    }
   ],
   "source": [
    "transactions = ['CASH_IN', 'CASH_OUT', 'DEBIT', 'PAYMENT', 'TRANSFER']\n",
    "fig, ax = plt.subplots(figsize=(8,6))\n",
    "sns.barplot(x = transactions, y = df.groupby('type')['type'].value_counts())\n",
    "plt.ylabel('count')\n",
    "plt.xlabel('transaction type')\n",
    "plt.title('All transactions by type')\n",
    "for p in ax.patches:\n",
    "    ax.annotate(format(p.get_height(), ','), \n",
    "                   (p.get_x() + p.get_width() / 2., p.get_height()), \n",
    "                   ha = 'center', va = 'center', \n",
    "                   xytext = (0, 9), \n",
    "                   textcoords = 'offset points')"
   ]
  },
  {
   "cell_type": "markdown",
   "metadata": {},
   "source": [
    "Of all the transactions above, we can get a better look into the fraudulent ones"
   ]
  },
  {
   "cell_type": "code",
   "execution_count": 9,
   "metadata": {},
   "outputs": [
    {
     "data": {
      "text/plain": [
       "Text(0.5, 1.0, 'Confusion matrix for simulator results')"
      ]
     },
     "execution_count": 9,
     "metadata": {},
     "output_type": "execute_result"
    },
    {
     "data": {
      "image/png": "[encoded data removed]",
      "text/plain": [
       "<Figure size 576x432 with 2 Axes>"
      ]
     },
     "metadata": {
      "needs_background": "light"
     },
     "output_type": "display_data"
    }
   ],
   "source": [
    "yt_true = list(df['isFraud'])\n",
    "yt_pred = list(df['isFlaggedFraud'])\n",
    "cf_matrix = metrics.confusion_matrix(yt_true, yt_pred)\n",
    "fig, ax = plt.subplots(figsize=(8,6))\n",
    "sns.heatmap(cf_matrix, annot=True, cmap='YlGnBu')\n",
    "plt.xlabel(\"isFlaggedFraud\")\n",
    "plt.ylabel(\"isFraud\")\n",
    "plt.title(\"Confusion matrix for simulator results\")"
   ]
  },
  {
   "cell_type": "code",
   "execution_count": 10,
   "metadata": {},
   "outputs": [
    {
     "data": {
      "text/plain": [
       "0    6354407\n",
       "1       8213\n",
       "Name: isFraud, dtype: int64"
      ]
     },
     "execution_count": 10,
     "metadata": {},
     "output_type": "execute_result"
    }
   ],
   "source": [
    "# Our data contains 8213 fradulent transactions\n",
    "df['isFraud'].value_counts()"
   ]
  },
  {
   "cell_type": "markdown",
   "metadata": {},
   "source": [
    "We see that out of over 6 million transactions, only 16 transactions were actually flagged as fraud, and over 8200 were fradulent transactions! The fraud detection system in place is not performing very well. \n",
    "\n",
    "Additionally, we see that the fraud transactions are only occuring in either TRANSFER or CASH_OUT types."
   ]
  },
  {
   "cell_type": "code",
   "execution_count": 11,
   "metadata": {},
   "outputs": [
    {
     "data": {
      "image/png": "[encoded data removed]",
      "text/plain": [
       "<Figure size 576x432 with 1 Axes>"
      ]
     },
     "metadata": {
      "needs_background": "light"
     },
     "output_type": "display_data"
    }
   ],
   "source": [
    "transaction_types = ['PAYMENT', 'CASH_OUT', 'CASH_IN', 'DEBIT', 'TRANSFER']\n",
    "\n",
    "fig, ax = plt.subplots(figsize=(8,6))\n",
    "sns.barplot(x= transaction_types, y=df.groupby('type')['isFraud'].sum())\n",
    "plt.title('Fraud transactions by type')\n",
    "plt.xlabel('type')\n",
    "plt.ylabel('count')\n",
    "for p in ax.patches:\n",
    "    ax.annotate(format(p.get_height(), ','), \n",
    "                   (p.get_x() + p.get_width() / 2., p.get_height()), \n",
    "                   ha = 'center', va = 'center', \n",
    "                   xytext = (0, 9), \n",
    "                   textcoords = 'offset points')"
   ]
  },
  {
   "cell_type": "markdown",
   "metadata": {},
   "source": [
    "Conclusion:\n",
    "\n",
    "From the above we see that fraud only occurs when the transaction is either a 'CASH OUT' or 'TRANSFER'. Since the population data is not available to resample, we can reduce our dataset to only CASH OUTS and TRANSFERS.\n"
   ]
  },
  {
   "cell_type": "code",
   "execution_count": 12,
   "metadata": {},
   "outputs": [],
   "source": [
    "df = df[(df[\"type\"] == \"CASH_OUT\") | (df[\"type\"] == \"TRANSFER\")]"
   ]
  },
  {
   "cell_type": "code",
   "execution_count": 13,
   "metadata": {},
   "outputs": [],
   "source": [
    "flagged = df[df['isFlaggedFraud'] == 1]\n",
    "\n",
    "fraud = df[df['isFraud'] == 1]\n",
    "nonfraud = df[df['isFraud'] == 0]"
   ]
  },
  {
   "cell_type": "code",
   "execution_count": 14,
   "metadata": {},
   "outputs": [
    {
     "data": {
      "text/html": [
       "<div>\n",
       "<style scoped>\n",
       "    .dataframe tbody tr th:only-of-type {\n",
       "        vertical-align: middle;\n",
       "    }\n",
       "\n",
       "    .dataframe tbody tr th {\n",
       "        vertical-align: top;\n",
       "    }\n",
       "\n",
       "    .dataframe thead th {\n",
       "        text-align: right;\n",
       "    }\n",
       "</style>\n",
       "<table border=\"1\" class=\"dataframe\">\n",
       "  <thead>\n",
       "    <tr style=\"text-align: right;\">\n",
       "      <th></th>\n",
       "      <th>step</th>\n",
       "      <th>type</th>\n",
       "      <th>amount</th>\n",
       "      <th>nameOrig</th>\n",
       "      <th>oldbalanceOrg</th>\n",
       "      <th>newbalanceOrig</th>\n",
       "      <th>nameDest</th>\n",
       "      <th>oldbalanceDest</th>\n",
       "      <th>newbalanceDest</th>\n",
       "      <th>isFraud</th>\n",
       "      <th>isFlaggedFraud</th>\n",
       "    </tr>\n",
       "  </thead>\n",
       "  <tbody>\n",
       "    <tr>\n",
       "      <th>2736446</th>\n",
       "      <td>212</td>\n",
       "      <td>TRANSFER</td>\n",
       "      <td>4953893.08</td>\n",
       "      <td>C728984460</td>\n",
       "      <td>4953893.08</td>\n",
       "      <td>4953893.08</td>\n",
       "      <td>C639921569</td>\n",
       "      <td>0.0</td>\n",
       "      <td>0.0</td>\n",
       "      <td>1</td>\n",
       "      <td>1</td>\n",
       "    </tr>\n",
       "    <tr>\n",
       "      <th>3247297</th>\n",
       "      <td>250</td>\n",
       "      <td>TRANSFER</td>\n",
       "      <td>1343002.08</td>\n",
       "      <td>C1100582606</td>\n",
       "      <td>1343002.08</td>\n",
       "      <td>1343002.08</td>\n",
       "      <td>C1147517658</td>\n",
       "      <td>0.0</td>\n",
       "      <td>0.0</td>\n",
       "      <td>1</td>\n",
       "      <td>1</td>\n",
       "    </tr>\n",
       "    <tr>\n",
       "      <th>3760288</th>\n",
       "      <td>279</td>\n",
       "      <td>TRANSFER</td>\n",
       "      <td>536624.41</td>\n",
       "      <td>C1035541766</td>\n",
       "      <td>536624.41</td>\n",
       "      <td>536624.41</td>\n",
       "      <td>C1100697970</td>\n",
       "      <td>0.0</td>\n",
       "      <td>0.0</td>\n",
       "      <td>1</td>\n",
       "      <td>1</td>\n",
       "    </tr>\n",
       "    <tr>\n",
       "      <th>5563713</th>\n",
       "      <td>387</td>\n",
       "      <td>TRANSFER</td>\n",
       "      <td>4892193.09</td>\n",
       "      <td>C908544136</td>\n",
       "      <td>4892193.09</td>\n",
       "      <td>4892193.09</td>\n",
       "      <td>C891140444</td>\n",
       "      <td>0.0</td>\n",
       "      <td>0.0</td>\n",
       "      <td>1</td>\n",
       "      <td>1</td>\n",
       "    </tr>\n",
       "    <tr>\n",
       "      <th>5996407</th>\n",
       "      <td>425</td>\n",
       "      <td>TRANSFER</td>\n",
       "      <td>10000000.00</td>\n",
       "      <td>C689608084</td>\n",
       "      <td>19585040.37</td>\n",
       "      <td>19585040.37</td>\n",
       "      <td>C1392803603</td>\n",
       "      <td>0.0</td>\n",
       "      <td>0.0</td>\n",
       "      <td>1</td>\n",
       "      <td>1</td>\n",
       "    </tr>\n",
       "    <tr>\n",
       "      <th>5996409</th>\n",
       "      <td>425</td>\n",
       "      <td>TRANSFER</td>\n",
       "      <td>9585040.37</td>\n",
       "      <td>C452586515</td>\n",
       "      <td>19585040.37</td>\n",
       "      <td>19585040.37</td>\n",
       "      <td>C1109166882</td>\n",
       "      <td>0.0</td>\n",
       "      <td>0.0</td>\n",
       "      <td>1</td>\n",
       "      <td>1</td>\n",
       "    </tr>\n",
       "    <tr>\n",
       "      <th>6168499</th>\n",
       "      <td>554</td>\n",
       "      <td>TRANSFER</td>\n",
       "      <td>3576297.10</td>\n",
       "      <td>C193696150</td>\n",
       "      <td>3576297.10</td>\n",
       "      <td>3576297.10</td>\n",
       "      <td>C484597480</td>\n",
       "      <td>0.0</td>\n",
       "      <td>0.0</td>\n",
       "      <td>1</td>\n",
       "      <td>1</td>\n",
       "    </tr>\n",
       "    <tr>\n",
       "      <th>6205439</th>\n",
       "      <td>586</td>\n",
       "      <td>TRANSFER</td>\n",
       "      <td>353874.22</td>\n",
       "      <td>C1684585475</td>\n",
       "      <td>353874.22</td>\n",
       "      <td>353874.22</td>\n",
       "      <td>C1770418982</td>\n",
       "      <td>0.0</td>\n",
       "      <td>0.0</td>\n",
       "      <td>1</td>\n",
       "      <td>1</td>\n",
       "    </tr>\n",
       "    <tr>\n",
       "      <th>6266413</th>\n",
       "      <td>617</td>\n",
       "      <td>TRANSFER</td>\n",
       "      <td>2542664.27</td>\n",
       "      <td>C786455622</td>\n",
       "      <td>2542664.27</td>\n",
       "      <td>2542664.27</td>\n",
       "      <td>C661958277</td>\n",
       "      <td>0.0</td>\n",
       "      <td>0.0</td>\n",
       "      <td>1</td>\n",
       "      <td>1</td>\n",
       "    </tr>\n",
       "    <tr>\n",
       "      <th>6281482</th>\n",
       "      <td>646</td>\n",
       "      <td>TRANSFER</td>\n",
       "      <td>10000000.00</td>\n",
       "      <td>C19004745</td>\n",
       "      <td>10399045.08</td>\n",
       "      <td>10399045.08</td>\n",
       "      <td>C1806199534</td>\n",
       "      <td>0.0</td>\n",
       "      <td>0.0</td>\n",
       "      <td>1</td>\n",
       "      <td>1</td>\n",
       "    </tr>\n",
       "    <tr>\n",
       "      <th>6281484</th>\n",
       "      <td>646</td>\n",
       "      <td>TRANSFER</td>\n",
       "      <td>399045.08</td>\n",
       "      <td>C724693370</td>\n",
       "      <td>10399045.08</td>\n",
       "      <td>10399045.08</td>\n",
       "      <td>C1909486199</td>\n",
       "      <td>0.0</td>\n",
       "      <td>0.0</td>\n",
       "      <td>1</td>\n",
       "      <td>1</td>\n",
       "    </tr>\n",
       "    <tr>\n",
       "      <th>6296014</th>\n",
       "      <td>671</td>\n",
       "      <td>TRANSFER</td>\n",
       "      <td>3441041.46</td>\n",
       "      <td>C917414431</td>\n",
       "      <td>3441041.46</td>\n",
       "      <td>3441041.46</td>\n",
       "      <td>C1082139865</td>\n",
       "      <td>0.0</td>\n",
       "      <td>0.0</td>\n",
       "      <td>1</td>\n",
       "      <td>1</td>\n",
       "    </tr>\n",
       "    <tr>\n",
       "      <th>6351225</th>\n",
       "      <td>702</td>\n",
       "      <td>TRANSFER</td>\n",
       "      <td>3171085.59</td>\n",
       "      <td>C1892216157</td>\n",
       "      <td>3171085.59</td>\n",
       "      <td>3171085.59</td>\n",
       "      <td>C1308068787</td>\n",
       "      <td>0.0</td>\n",
       "      <td>0.0</td>\n",
       "      <td>1</td>\n",
       "      <td>1</td>\n",
       "    </tr>\n",
       "    <tr>\n",
       "      <th>6362460</th>\n",
       "      <td>730</td>\n",
       "      <td>TRANSFER</td>\n",
       "      <td>10000000.00</td>\n",
       "      <td>C2140038573</td>\n",
       "      <td>17316255.05</td>\n",
       "      <td>17316255.05</td>\n",
       "      <td>C1395467927</td>\n",
       "      <td>0.0</td>\n",
       "      <td>0.0</td>\n",
       "      <td>1</td>\n",
       "      <td>1</td>\n",
       "    </tr>\n",
       "    <tr>\n",
       "      <th>6362462</th>\n",
       "      <td>730</td>\n",
       "      <td>TRANSFER</td>\n",
       "      <td>7316255.05</td>\n",
       "      <td>C1869569059</td>\n",
       "      <td>17316255.05</td>\n",
       "      <td>17316255.05</td>\n",
       "      <td>C1861208726</td>\n",
       "      <td>0.0</td>\n",
       "      <td>0.0</td>\n",
       "      <td>1</td>\n",
       "      <td>1</td>\n",
       "    </tr>\n",
       "    <tr>\n",
       "      <th>6362584</th>\n",
       "      <td>741</td>\n",
       "      <td>TRANSFER</td>\n",
       "      <td>5674547.89</td>\n",
       "      <td>C992223106</td>\n",
       "      <td>5674547.89</td>\n",
       "      <td>5674547.89</td>\n",
       "      <td>C1366804249</td>\n",
       "      <td>0.0</td>\n",
       "      <td>0.0</td>\n",
       "      <td>1</td>\n",
       "      <td>1</td>\n",
       "    </tr>\n",
       "  </tbody>\n",
       "</table>\n",
       "</div>"
      ],
      "text/plain": [
       "         step      type       amount     nameOrig  oldbalanceOrg  \\\n",
       "2736446   212  TRANSFER   4953893.08   C728984460     4953893.08   \n",
       "3247297   250  TRANSFER   1343002.08  C1100582606     1343002.08   \n",
       "3760288   279  TRANSFER    536624.41  C1035541766      536624.41   \n",
       "5563713   387  TRANSFER   4892193.09   C908544136     4892193.09   \n",
       "5996407   425  TRANSFER  10000000.00   C689608084    19585040.37   \n",
       "5996409   425  TRANSFER   9585040.37   C452586515    19585040.37   \n",
       "6168499   554  TRANSFER   3576297.10   C193696150     3576297.10   \n",
       "6205439   586  TRANSFER    353874.22  C1684585475      353874.22   \n",
       "6266413   617  TRANSFER   2542664.27   C786455622     2542664.27   \n",
       "6281482   646  TRANSFER  10000000.00    C19004745    10399045.08   \n",
       "6281484   646  TRANSFER    399045.08   C724693370    10399045.08   \n",
       "6296014   671  TRANSFER   3441041.46   C917414431     3441041.46   \n",
       "6351225   702  TRANSFER   3171085.59  C1892216157     3171085.59   \n",
       "6362460   730  TRANSFER  10000000.00  C2140038573    17316255.05   \n",
       "6362462   730  TRANSFER   7316255.05  C1869569059    17316255.05   \n",
       "6362584   741  TRANSFER   5674547.89   C992223106     5674547.89   \n",
       "\n",
       "         newbalanceOrig     nameDest  oldbalanceDest  newbalanceDest  isFraud  \\\n",
       "2736446      4953893.08   C639921569             0.0             0.0        1   \n",
       "3247297      1343002.08  C1147517658             0.0             0.0        1   \n",
       "3760288       536624.41  C1100697970             0.0             0.0        1   \n",
       "5563713      4892193.09   C891140444             0.0             0.0        1   \n",
       "5996407     19585040.37  C1392803603             0.0             0.0        1   \n",
       "5996409     19585040.37  C1109166882             0.0             0.0        1   \n",
       "6168499      3576297.10   C484597480             0.0             0.0        1   \n",
       "6205439       353874.22  C1770418982             0.0             0.0        1   \n",
       "6266413      2542664.27   C661958277             0.0             0.0        1   \n",
       "6281482     10399045.08  C1806199534             0.0             0.0        1   \n",
       "6281484     10399045.08  C1909486199             0.0             0.0        1   \n",
       "6296014      3441041.46  C1082139865             0.0             0.0        1   \n",
       "6351225      3171085.59  C1308068787             0.0             0.0        1   \n",
       "6362460     17316255.05  C1395467927             0.0             0.0        1   \n",
       "6362462     17316255.05  C1861208726             0.0             0.0        1   \n",
       "6362584      5674547.89  C1366804249             0.0             0.0        1   \n",
       "\n",
       "         isFlaggedFraud  \n",
       "2736446               1  \n",
       "3247297               1  \n",
       "3760288               1  \n",
       "5563713               1  \n",
       "5996407               1  \n",
       "5996409               1  \n",
       "6168499               1  \n",
       "6205439               1  \n",
       "6266413               1  \n",
       "6281482               1  \n",
       "6281484               1  \n",
       "6296014               1  \n",
       "6351225               1  \n",
       "6362460               1  \n",
       "6362462               1  \n",
       "6362584               1  "
      ]
     },
     "execution_count": 14,
     "metadata": {},
     "output_type": "execute_result"
    }
   ],
   "source": [
    "flagged"
   ]
  },
  {
   "cell_type": "markdown",
   "metadata": {},
   "source": [
    " Additionally,'isFlaggedFraud' is not related to customers who transact more than once where 'isFlagedFraud' is set.\n",
    " We obtain a list of names where there was more than 1 fraud transaction"
   ]
  },
  {
   "cell_type": "code",
   "execution_count": 15,
   "metadata": {},
   "outputs": [],
   "source": [
    "names = []\n",
    "multiple_flagged = []\n",
    "\n",
    "for i in fraud['nameDest'].value_counts().index:\n",
    "    if fraud['nameDest'].value_counts()[i] > 1:\n",
    "        names.append(i)\n",
    "    if i in flagged['nameDest']:\n",
    "        multiple_flagged.append(i)"
   ]
  },
  {
   "cell_type": "code",
   "execution_count": 16,
   "metadata": {},
   "outputs": [
    {
     "name": "stdout",
     "output_type": "stream",
     "text": [
      "Addresses with multiple fraud transactions that were flagged: 0\n",
      "Number of addresses with multiple fraud transactions: 44\n"
     ]
    }
   ],
   "source": [
    "# We see that none of the addresses that had multiple fraud transactions were flagged as fraud\n",
    "print('Addresses with multiple fraud transactions that were flagged: {}'.format(len(multiple_flagged)))\n",
    "\n",
    "print('Number of addresses with multiple fraud transactions: {}'.format(len(names)))"
   ]
  },
  {
   "cell_type": "markdown",
   "metadata": {},
   "source": [
    "After looking at these, we can make the decision to drop the 'isFlaggedFraud' column, for several reasons.\n",
    "\n",
    "    1. There are only 16 flagged transactions out of over 6 million.\n",
    "    2. The column does not flag all transfers over 200,000 as fraud, and is not related to transfer type or amount. \n",
    "    3. The column is not based on multiple fraud transactions."
   ]
  },
  {
   "cell_type": "code",
   "execution_count": 17,
   "metadata": {},
   "outputs": [],
   "source": [
    "df = df.drop(labels='isFlaggedFraud', axis=1)"
   ]
  },
  {
   "cell_type": "markdown",
   "metadata": {},
   "source": [
    "We see from the documentation that there are two categories of destination columns, Merchant and Customer. \n",
    "Merchant recepients were not involved in any of the fraud transactions. Additionally, millions of rows of unique labels would be taxing on our computational time. We can drop the nameorigin and namedest columns as well."
   ]
  },
  {
   "cell_type": "code",
   "execution_count": 18,
   "metadata": {},
   "outputs": [],
   "source": [
    "df = df.drop(labels=['nameOrig','nameDest'], axis=1)"
   ]
  },
  {
   "cell_type": "code",
   "execution_count": 19,
   "metadata": {},
   "outputs": [
    {
     "data": {
      "text/html": [
       "<div>\n",
       "<style scoped>\n",
       "    .dataframe tbody tr th:only-of-type {\n",
       "        vertical-align: middle;\n",
       "    }\n",
       "\n",
       "    .dataframe tbody tr th {\n",
       "        vertical-align: top;\n",
       "    }\n",
       "\n",
       "    .dataframe thead th {\n",
       "        text-align: right;\n",
       "    }\n",
       "</style>\n",
       "<table border=\"1\" class=\"dataframe\">\n",
       "  <thead>\n",
       "    <tr style=\"text-align: right;\">\n",
       "      <th></th>\n",
       "      <th>step</th>\n",
       "      <th>type</th>\n",
       "      <th>amount</th>\n",
       "      <th>oldbalanceOrg</th>\n",
       "      <th>newbalanceOrig</th>\n",
       "      <th>oldbalanceDest</th>\n",
       "      <th>newbalanceDest</th>\n",
       "      <th>isFraud</th>\n",
       "    </tr>\n",
       "  </thead>\n",
       "  <tbody>\n",
       "    <tr>\n",
       "      <th>2</th>\n",
       "      <td>1</td>\n",
       "      <td>TRANSFER</td>\n",
       "      <td>181.00</td>\n",
       "      <td>181.0</td>\n",
       "      <td>0.0</td>\n",
       "      <td>0.0</td>\n",
       "      <td>0.00</td>\n",
       "      <td>1</td>\n",
       "    </tr>\n",
       "    <tr>\n",
       "      <th>3</th>\n",
       "      <td>1</td>\n",
       "      <td>CASH_OUT</td>\n",
       "      <td>181.00</td>\n",
       "      <td>181.0</td>\n",
       "      <td>0.0</td>\n",
       "      <td>21182.0</td>\n",
       "      <td>0.00</td>\n",
       "      <td>1</td>\n",
       "    </tr>\n",
       "    <tr>\n",
       "      <th>15</th>\n",
       "      <td>1</td>\n",
       "      <td>CASH_OUT</td>\n",
       "      <td>229133.94</td>\n",
       "      <td>15325.0</td>\n",
       "      <td>0.0</td>\n",
       "      <td>5083.0</td>\n",
       "      <td>51513.44</td>\n",
       "      <td>0</td>\n",
       "    </tr>\n",
       "    <tr>\n",
       "      <th>19</th>\n",
       "      <td>1</td>\n",
       "      <td>TRANSFER</td>\n",
       "      <td>215310.30</td>\n",
       "      <td>705.0</td>\n",
       "      <td>0.0</td>\n",
       "      <td>22425.0</td>\n",
       "      <td>0.00</td>\n",
       "      <td>0</td>\n",
       "    </tr>\n",
       "    <tr>\n",
       "      <th>24</th>\n",
       "      <td>1</td>\n",
       "      <td>TRANSFER</td>\n",
       "      <td>311685.89</td>\n",
       "      <td>10835.0</td>\n",
       "      <td>0.0</td>\n",
       "      <td>6267.0</td>\n",
       "      <td>2719172.89</td>\n",
       "      <td>0</td>\n",
       "    </tr>\n",
       "  </tbody>\n",
       "</table>\n",
       "</div>"
      ],
      "text/plain": [
       "    step      type     amount  oldbalanceOrg  newbalanceOrig  oldbalanceDest  \\\n",
       "2      1  TRANSFER     181.00          181.0             0.0             0.0   \n",
       "3      1  CASH_OUT     181.00          181.0             0.0         21182.0   \n",
       "15     1  CASH_OUT  229133.94        15325.0             0.0          5083.0   \n",
       "19     1  TRANSFER  215310.30          705.0             0.0         22425.0   \n",
       "24     1  TRANSFER  311685.89        10835.0             0.0          6267.0   \n",
       "\n",
       "    newbalanceDest  isFraud  \n",
       "2             0.00        1  \n",
       "3             0.00        1  \n",
       "15        51513.44        0  \n",
       "19            0.00        0  \n",
       "24      2719172.89        0  "
      ]
     },
     "execution_count": 19,
     "metadata": {},
     "output_type": "execute_result"
    }
   ],
   "source": [
    "df.head()"
   ]
  },
  {
   "cell_type": "markdown",
   "metadata": {},
   "source": [
    "### 3.1 Correlations"
   ]
  },
  {
   "cell_type": "code",
   "execution_count": 20,
   "metadata": {},
   "outputs": [
    {
     "data": {
      "image/png": "[encoded data removed]",
      "text/plain": [
       "<Figure size 864x720 with 2 Axes>"
      ]
     },
     "metadata": {
      "needs_background": "light"
     },
     "output_type": "display_data"
    }
   ],
   "source": [
    "fig, ax = plt.subplots(figsize=(12,10))\n",
    "_ = sns.heatmap(df.corr(), cmap = 'Greens', annot=True)\n",
    "_ = plt.title('Heatmap showing feature correlations', fontsize=20)"
   ]
  },
  {
   "cell_type": "markdown",
   "metadata": {},
   "source": [
    "### 3.2 Amount_distributions"
   ]
  },
  {
   "cell_type": "code",
   "execution_count": 21,
   "metadata": {},
   "outputs": [
    {
     "data": {
      "image/png": "[encoded data removed]",
      "text/plain": [
       "<Figure size 1296x432 with 2 Axes>"
      ]
     },
     "metadata": {
      "needs_background": "light"
     },
     "output_type": "display_data"
    }
   ],
   "source": [
    "# We first see how the amount transacted is distributed between fraud and nonfraud transactions\n",
    "\n",
    "# We apply a log transformation to deal with the skewed data\n",
    "\n",
    "fig, ax = plt.subplots(1,2, figsize=(18,6))\n",
    "_ = sns.boxplot(x=df.isFraud, y=df.amount, ax=ax[0])\n",
    "_ = sns.boxplot(x=df.isFraud, y=np.log1p(df.amount), ax=ax[1])\n",
    "_ = ax[0].title.set_text('Distribution of transaction amount for all transactions')\n",
    "_ = ax[1].title.set_text('Distribution of transaction amount after transformation')"
   ]
  },
  {
   "cell_type": "markdown",
   "metadata": {},
   "source": [
    "This helps us visualize how much of an effect the outliers have on the data. We can mitigate the effect of the outliers and get a better idea of the central tendency of the data with the plots below."
   ]
  },
  {
   "cell_type": "markdown",
   "metadata": {},
   "source": [
    "### 3.3 Central_tendency"
   ]
  },
  {
   "cell_type": "markdown",
   "metadata": {},
   "source": [
    "Since all of our fraud transactions occured in only TRANSFER and CASH_OUT transactions, we can get a better look at those as well."
   ]
  },
  {
   "cell_type": "code",
   "execution_count": 22,
   "metadata": {},
   "outputs": [],
   "source": [
    "transfer = df[df['type'] == 'TRANSFER']\n",
    "cashout = df[df['type'] == 'CASH_OUT']"
   ]
  },
  {
   "cell_type": "code",
   "execution_count": 23,
   "metadata": {},
   "outputs": [
    {
     "data": {
      "image/png": "[encoded data removed]",
      "text/plain": [
       "<Figure size 1296x432 with 2 Axes>"
      ]
     },
     "metadata": {
      "needs_background": "light"
     },
     "output_type": "display_data"
    }
   ],
   "source": [
    "# Here we use median instead of mean to illustrate central tendency in order to suppress the effect of outliers\n",
    "\n",
    "fig,ax = plt.subplots(1,2,figsize=(18,6))\n",
    "ax[0].title.set_text(\"Median Transaction amount for transfers\")\n",
    "ax[1].title.set_text(\"Median Transaction amount for cash outs\")\n",
    "\n",
    "_ = sns.barplot(x=['non-Fraud', 'Fraud'], y=transfer.groupby('isFraud')['amount'].median(),ax=ax[0])\n",
    "_ = sns.barplot(x=['non-Fraud', 'Fraud'], y=cashout.groupby('isFraud')['amount'].median(),ax=ax[1])\n",
    "for i in range(2):\n",
    "    for p in ax[i].patches:\n",
    "        ax[i].annotate(format(p.get_height(), ','), \n",
    "                   (p.get_x() + p.get_width() / 2., p.get_height()), \n",
    "                   ha = 'center', va = 'center', \n",
    "                   xytext = (0, 9), \n",
    "                   textcoords = 'offset points')"
   ]
  },
  {
   "cell_type": "markdown",
   "metadata": {},
   "source": [
    "The median transaction amount in CASH_OUT transactions is almost 3x higher in fraudulent transactions vs nonfraudulent ones. In transfers, the figure is much closer to even."
   ]
  },
  {
   "cell_type": "markdown",
   "metadata": {},
   "source": [
    "### 3.4 Time_series"
   ]
  },
  {
   "cell_type": "markdown",
   "metadata": {},
   "source": [
    "Another aspect of fraud that we can look into is what part of the day it occurs. We can use 'step' to group the transactions into a per day basis to identify if a pattern is present."
   ]
  },
  {
   "cell_type": "code",
   "execution_count": 24,
   "metadata": {},
   "outputs": [
    {
     "data": {
      "image/png": "[encoded data removed]",
      "text/plain": [
       "<Figure size 720x576 with 1 Axes>"
      ]
     },
     "metadata": {
      "needs_background": "light"
     },
     "output_type": "display_data"
    }
   ],
   "source": [
    "# Here we plot the fradulent transactions on a per hour basis\n",
    "\n",
    "df['hour'] = df.step % 24\n",
    "frauds_per_hour = pd.concat([df.groupby(\"hour\")[\"isFraud\"].sum(),df.groupby(\"hour\")[\"isFraud\"].count()],axis=1)\n",
    "frauds_per_hour.columns = ['num_frauds', 'num_transactions']\n",
    "frauds_per_hour['fraud_rate'] = frauds_per_hour.num_frauds / frauds_per_hour.num_transactions\n",
    "_ = plt.subplots(figsize=(10,8))\n",
    "_ = sns.barplot(x=frauds_per_hour.index, y= frauds_per_hour.fraud_rate, color='green')\n",
    "_ = plt.title('Fraud rate per hour of day', fontsize=15)\n",
    "_ = plt.xlabel('hour', fontsize=15)\n",
    "_ = plt.ylabel('fraud rate', fontsize=15)"
   ]
  },
  {
   "cell_type": "code",
   "execution_count": 25,
   "metadata": {},
   "outputs": [
    {
     "data": {
      "image/png": "[encoded data removed]",
      "text/plain": [
       "<Figure size 720x576 with 1 Axes>"
      ]
     },
     "metadata": {
      "needs_background": "light"
     },
     "output_type": "display_data"
    }
   ],
   "source": [
    "# We can also apply the same concept to visualize fraud rate on a weekly basis\n",
    "\n",
    "df['dayofmonth'] = round(df.step / 24)\n",
    "df['dayofweek'] = df['dayofmonth'] % 7\n",
    "frauds_per_day = pd.concat([df.groupby(\"dayofweek\")[\"isFraud\"].sum(),df.groupby(\"dayofweek\")[\"isFraud\"].count()],axis=1)\n",
    "frauds_per_day.columns = ['num_frauds', 'num_transactions']\n",
    "frauds_per_day['fraud_rate'] = frauds_per_day.num_frauds / frauds_per_day.num_transactions\n",
    "_ = plt.subplots(figsize=(10,8))\n",
    "_ = sns.barplot(x=list(range(1,8)), y= frauds_per_day.fraud_rate, color='green')\n",
    "_ = plt.title('Fraud rate per day of week', fontsize=15)\n",
    "_ = plt.xlabel('Day of week', fontsize=15)\n",
    "_ = plt.ylabel('fraud rate', fontsize=15)"
   ]
  },
  {
   "cell_type": "markdown",
   "metadata": {},
   "source": [
    "Two main conclusions from our graphs here. Those are that fraud tends to occur in the early hour of the morning, before 9:00 am, and that it also tends to occur towards the end of the week."
   ]
  },
  {
   "cell_type": "markdown",
   "metadata": {},
   "source": [
    "# 4. Feature_Engineering"
   ]
  },
  {
   "cell_type": "markdown",
   "metadata": {},
   "source": [
    "We have several types of features shown in our df now: Datetime features, numerical features, and categorical features. We need to do some work on all of these."
   ]
  },
  {
   "cell_type": "code",
   "execution_count": 27,
   "metadata": {},
   "outputs": [],
   "source": [
    "df1 = df.copy()"
   ]
  },
  {
   "cell_type": "markdown",
   "metadata": {},
   "source": [
    "##### Datetime"
   ]
  },
  {
   "cell_type": "markdown",
   "metadata": {},
   "source": [
    "The main datetime feature is 'step'. We also created 'hour', 'day', and 'dayofweek'. So this feature has already been addressed. We saw earlier how fraud transaction rates are much higher in the early morning hours and on the later days of the week."
   ]
  },
  {
   "cell_type": "code",
   "execution_count": 28,
   "metadata": {},
   "outputs": [],
   "source": [
    "# Those we have already created\n",
    "\n",
    "df1['hour'] = df1.step % 24\n",
    "df1['dayofmonth'] = round(df1.step / 24)\n",
    "df1['dayofweek'] = df1['dayofweek'] % 7"
   ]
  },
  {
   "cell_type": "code",
   "execution_count": 29,
   "metadata": {},
   "outputs": [],
   "source": [
    "# Lets make the hour feature a binary one for our model.\n",
    "\n",
    "in_peak_time = []\n",
    "\n",
    "for i in df1.hour:\n",
    "    if i in list(range(9)):\n",
    "        in_peak_time.append(1)\n",
    "    else:\n",
    "        in_peak_time.append(0)\n",
    "        \n",
    "df1['in_peak_time'] = in_peak_time"
   ]
  },
  {
   "cell_type": "code",
   "execution_count": 30,
   "metadata": {},
   "outputs": [
    {
     "data": {
      "text/plain": [
       "0    2728596\n",
       "1      41813\n",
       "Name: in_peak_time, dtype: int64"
      ]
     },
     "execution_count": 30,
     "metadata": {},
     "output_type": "execute_result"
    }
   ],
   "source": [
    "df1.in_peak_time.value_counts()"
   ]
  },
  {
   "cell_type": "markdown",
   "metadata": {},
   "source": [
    "##### Categorical"
   ]
  },
  {
   "cell_type": "markdown",
   "metadata": {},
   "source": [
    "The main categorical feature we will focus on here is 'type', since the others have been removed during wrangling. \n",
    "Here we can generate dummy variables for the 'type' variable."
   ]
  },
  {
   "cell_type": "code",
   "execution_count": 31,
   "metadata": {},
   "outputs": [
    {
     "data": {
      "text/html": [
       "<div>\n",
       "<style scoped>\n",
       "    .dataframe tbody tr th:only-of-type {\n",
       "        vertical-align: middle;\n",
       "    }\n",
       "\n",
       "    .dataframe tbody tr th {\n",
       "        vertical-align: top;\n",
       "    }\n",
       "\n",
       "    .dataframe thead th {\n",
       "        text-align: right;\n",
       "    }\n",
       "</style>\n",
       "<table border=\"1\" class=\"dataframe\">\n",
       "  <thead>\n",
       "    <tr style=\"text-align: right;\">\n",
       "      <th></th>\n",
       "      <th>step</th>\n",
       "      <th>amount</th>\n",
       "      <th>oldbalanceOrg</th>\n",
       "      <th>newbalanceOrig</th>\n",
       "      <th>oldbalanceDest</th>\n",
       "      <th>newbalanceDest</th>\n",
       "      <th>isFraud</th>\n",
       "      <th>hour</th>\n",
       "      <th>dayofmonth</th>\n",
       "      <th>dayofweek</th>\n",
       "      <th>in_peak_time</th>\n",
       "      <th>type_CASH_OUT</th>\n",
       "      <th>type_TRANSFER</th>\n",
       "    </tr>\n",
       "  </thead>\n",
       "  <tbody>\n",
       "    <tr>\n",
       "      <th>2</th>\n",
       "      <td>1</td>\n",
       "      <td>181.00</td>\n",
       "      <td>181.0</td>\n",
       "      <td>0.0</td>\n",
       "      <td>0.0</td>\n",
       "      <td>0.00</td>\n",
       "      <td>1</td>\n",
       "      <td>1</td>\n",
       "      <td>0.0</td>\n",
       "      <td>0.0</td>\n",
       "      <td>1</td>\n",
       "      <td>0</td>\n",
       "      <td>1</td>\n",
       "    </tr>\n",
       "    <tr>\n",
       "      <th>3</th>\n",
       "      <td>1</td>\n",
       "      <td>181.00</td>\n",
       "      <td>181.0</td>\n",
       "      <td>0.0</td>\n",
       "      <td>21182.0</td>\n",
       "      <td>0.00</td>\n",
       "      <td>1</td>\n",
       "      <td>1</td>\n",
       "      <td>0.0</td>\n",
       "      <td>0.0</td>\n",
       "      <td>1</td>\n",
       "      <td>1</td>\n",
       "      <td>0</td>\n",
       "    </tr>\n",
       "    <tr>\n",
       "      <th>15</th>\n",
       "      <td>1</td>\n",
       "      <td>229133.94</td>\n",
       "      <td>15325.0</td>\n",
       "      <td>0.0</td>\n",
       "      <td>5083.0</td>\n",
       "      <td>51513.44</td>\n",
       "      <td>0</td>\n",
       "      <td>1</td>\n",
       "      <td>0.0</td>\n",
       "      <td>0.0</td>\n",
       "      <td>1</td>\n",
       "      <td>1</td>\n",
       "      <td>0</td>\n",
       "    </tr>\n",
       "    <tr>\n",
       "      <th>19</th>\n",
       "      <td>1</td>\n",
       "      <td>215310.30</td>\n",
       "      <td>705.0</td>\n",
       "      <td>0.0</td>\n",
       "      <td>22425.0</td>\n",
       "      <td>0.00</td>\n",
       "      <td>0</td>\n",
       "      <td>1</td>\n",
       "      <td>0.0</td>\n",
       "      <td>0.0</td>\n",
       "      <td>1</td>\n",
       "      <td>0</td>\n",
       "      <td>1</td>\n",
       "    </tr>\n",
       "    <tr>\n",
       "      <th>24</th>\n",
       "      <td>1</td>\n",
       "      <td>311685.89</td>\n",
       "      <td>10835.0</td>\n",
       "      <td>0.0</td>\n",
       "      <td>6267.0</td>\n",
       "      <td>2719172.89</td>\n",
       "      <td>0</td>\n",
       "      <td>1</td>\n",
       "      <td>0.0</td>\n",
       "      <td>0.0</td>\n",
       "      <td>1</td>\n",
       "      <td>0</td>\n",
       "      <td>1</td>\n",
       "    </tr>\n",
       "  </tbody>\n",
       "</table>\n",
       "</div>"
      ],
      "text/plain": [
       "    step     amount  oldbalanceOrg  newbalanceOrig  oldbalanceDest  \\\n",
       "2      1     181.00          181.0             0.0             0.0   \n",
       "3      1     181.00          181.0             0.0         21182.0   \n",
       "15     1  229133.94        15325.0             0.0          5083.0   \n",
       "19     1  215310.30          705.0             0.0         22425.0   \n",
       "24     1  311685.89        10835.0             0.0          6267.0   \n",
       "\n",
       "    newbalanceDest  isFraud  hour  dayofmonth  dayofweek  in_peak_time  \\\n",
       "2             0.00        1     1         0.0        0.0             1   \n",
       "3             0.00        1     1         0.0        0.0             1   \n",
       "15        51513.44        0     1         0.0        0.0             1   \n",
       "19            0.00        0     1         0.0        0.0             1   \n",
       "24      2719172.89        0     1         0.0        0.0             1   \n",
       "\n",
       "    type_CASH_OUT  type_TRANSFER  \n",
       "2               0              1  \n",
       "3               1              0  \n",
       "15              1              0  \n",
       "19              0              1  \n",
       "24              0              1  "
      ]
     },
     "execution_count": 31,
     "metadata": {},
     "output_type": "execute_result"
    }
   ],
   "source": [
    "df1 = pd.get_dummies(df1,columns=[\"type\"])\n",
    "df1.head()"
   ]
  },
  {
   "cell_type": "code",
   "execution_count": 32,
   "metadata": {},
   "outputs": [],
   "source": [
    "baseline_df = df1.copy()"
   ]
  },
  {
   "cell_type": "markdown",
   "metadata": {},
   "source": [
    "Throughout the dataset, we can pick up on several other trends. Especially when it comes to the fraudulent transactions.\n",
    "\n",
    "For all the fraudulent transactions:\n",
    "\n",
    "1. We see that they all follow the same pattern: A 'TRANSFER' of a certain amount followed by a \"CASH_OUT' for the same amount immediately after.\n",
    "2. The 'oldbalanceDest'/'newbalanceDest' is updated (the majority of the time) only after the 'CASH_OUT', not the 'TRANSFER'\n",
    "\n",
    "We can use this information to generate a new feature that would help our model realize this pattern."
   ]
  },
  {
   "cell_type": "code",
   "execution_count": 33,
   "metadata": {},
   "outputs": [
    {
     "name": "stdout",
     "output_type": "stream",
     "text": [
      "coupled transactions: 8182\n",
      "Percentage of fraud transactions that are a part of a coupled transaction: 99.62254961646171\n"
     ]
    }
   ],
   "source": [
    "# How many of the fraud transactions are coupled\n",
    "\n",
    "coupled = 0\n",
    "\n",
    "for i in range(len(fraud) -1):\n",
    "    if (fraud.iloc[i].type == 'TRANSFER') & (fraud.iloc[i+1].type == 'CASH_OUT'):\n",
    "        coupled += 2\n",
    "\n",
    "print('coupled transactions: {}'.format(coupled))\n",
    "print('Percentage of fraud transactions that are a part of a coupled transaction: {}'.format((coupled/len(fraud))*100))"
   ]
  },
  {
   "cell_type": "code",
   "execution_count": 34,
   "metadata": {},
   "outputs": [
    {
     "name": "stdout",
     "output_type": "stream",
     "text": [
      "coupled transactions: 232838\n"
     ]
    }
   ],
   "source": [
    "# How many of all transactions are coupled\n",
    "\n",
    "df1['coupled'] = 0\n",
    "coupled = 0\n",
    "\n",
    "for i in range(len(df1) -1):\n",
    "    if (df1.iloc[i].type_TRANSFER == 1) & (df1.iloc[i+1].type_CASH_OUT == 1):\n",
    "        coupled += 1\n",
    "        df1.coupled.iloc[i] = 1\n",
    "        df1.coupled.iloc[i+1] = 1\n",
    "            \n",
    "print('coupled transactions: {}'.format(coupled))"
   ]
  },
  {
   "cell_type": "markdown",
   "metadata": {},
   "source": [
    "##### Numeric"
   ]
  },
  {
   "cell_type": "markdown",
   "metadata": {},
   "source": [
    "#### Balance Errors"
   ]
  },
  {
   "cell_type": "markdown",
   "metadata": {},
   "source": [
    "Here we address the balance error that we saw between the originating and destination accounts. We create new numeric features based on those differences."
   ]
  },
  {
   "cell_type": "code",
   "execution_count": 35,
   "metadata": {},
   "outputs": [],
   "source": [
    "df1[\"errorBalanceOrg\"] = df1.newbalanceOrig + df1.amount - df1.oldbalanceOrg\n",
    "df1[\"errorBalanceDest\"] = df1.oldbalanceDest + df1.amount - df1.newbalanceDest"
   ]
  },
  {
   "cell_type": "markdown",
   "metadata": {},
   "source": [
    "#### Train/test split"
   ]
  },
  {
   "cell_type": "code",
   "execution_count": 36,
   "metadata": {},
   "outputs": [
    {
     "name": "stdout",
     "output_type": "stream",
     "text": [
      "(1939286, 15)\n",
      "(831123, 15)\n",
      "(1939286, 1)\n",
      "(831123, 1)\n"
     ]
    }
   ],
   "source": [
    "# Train/test split\n",
    "target = 'isFraud'\n",
    "\n",
    "X = df1.loc[:, df1.columns != target]\n",
    "y = df1.loc[:, df1.columns == target]\n",
    "\n",
    "\n",
    "X_train, X_test, y_train, y_test = train_test_split(X,y, test_size = 0.3, random_state = 42, stratify = df1[\"isFraud\"])\n",
    "\n",
    "print(X_train.shape)\n",
    "print(X_test.shape)\n",
    "print(y_train.shape)\n",
    "print(y_test.shape)"
   ]
  },
  {
   "cell_type": "markdown",
   "metadata": {},
   "source": [
    "# 5. Modeling"
   ]
  },
  {
   "cell_type": "markdown",
   "metadata": {},
   "source": [
    "We want to try out several different models and compare which works best. To start we can use a very simple model, a dummy classifier using our base dataframe we saved as baseline_df. This df is not scaled.\n",
    "\n",
    "With our other df called df1, we have already scaled and performed both undersampling and oversampling. We can use this df to compare other models such as logistic regression, random forest, and Gradient boosting."
   ]
  },
  {
   "cell_type": "markdown",
   "metadata": {},
   "source": [
    "### Simple classifier"
   ]
  },
  {
   "cell_type": "code",
   "execution_count": 90,
   "metadata": {},
   "outputs": [],
   "source": [
    "# We can start with a simple classifier using our unscaled dataset: baseline_df\n",
    "\n",
    "X1 = baseline_df.drop('isFraud', axis=1)\n",
    "y1 = baseline_df.isFraud\n",
    "\n",
    "X1train, X1test, y1train, y1test = train_test_split(X1,y1, test_size = 0.3, random_state = 42, stratify = df1[\"isFraud\"])"
   ]
  },
  {
   "cell_type": "code",
   "execution_count": 91,
   "metadata": {},
   "outputs": [
    {
     "name": "stdout",
     "output_type": "stream",
     "text": [
      "              precision    recall  f1-score   support\n",
      "\n",
      "           0       1.00      1.00      1.00    828638\n",
      "           1       0.00      0.00      0.00      2485\n",
      "\n",
      "    accuracy                           0.99    831123\n",
      "   macro avg       0.50      0.50      0.50    831123\n",
      "weighted avg       0.99      0.99      0.99    831123\n",
      "\n",
      "[[826178   2460]\n",
      " [  2481      4]]\n"
     ]
    }
   ],
   "source": [
    "dc = DummyClassifier(random_state=42)\n",
    "startfit1 = timer()\n",
    "dc.fit(X1train, y1train)\n",
    "endfit1 = timer()\n",
    "starttest1 = timer()\n",
    "ypred = dc.predict(X1test)\n",
    "endtest1 = timer()\n",
    "print(classification_report(ypred, y1test))\n",
    "print(confusion_matrix(ypred, y1test))"
   ]
  },
  {
   "cell_type": "markdown",
   "metadata": {},
   "source": [
    "### 5.1 Random_Sampling_and_scaling"
   ]
  },
  {
   "cell_type": "markdown",
   "metadata": {},
   "source": [
    "We introduce scaling and undersampling into our models. \n",
    "\n",
    "Generally with skewed datasets such as the fraud dataset we are working with we run into the issue of imbalanced data. This imbalanced data influences the performance of a ML model. \n",
    "Generally with fraud data this is the case, it would be worrying if the fraud and non fraud data was evenly distributed! \n",
    "We need to use methods such as undersampling or oversampling so that our model is't influenced by the highly skewed data.\n",
    "\n",
    "Undersampling deletes samples from the majority class.\n",
    "Oversampling duplicates samples from the minority class. \n",
    "\n",
    "Here we use random undersampling since we have a large amount of the majority data. Random sampling is a simple technique that assumes nothing of the data. There are other methods for undersampling and oversampling that may be used if random sampling is deemed too simple. "
   ]
  },
  {
   "cell_type": "markdown",
   "metadata": {},
   "source": [
    "#### Scaling"
   ]
  },
  {
   "cell_type": "markdown",
   "metadata": {},
   "source": [
    "Performing feature scaling is really dependent on which ML model you use. In some cases scaling the features can help model performance, in other cases it does not. \n",
    "\n",
    "\n",
    "Gradient descent based algorithms require features to be scaled, and this is why it is used here with logistic regression and with the gradient boosting model. On the other hand, tree based algorithms are not affected by scaling, this is why it is not used in the random forest model. "
   ]
  },
  {
   "cell_type": "markdown",
   "metadata": {},
   "source": [
    "#### Metrics for measuring successful models"
   ]
  },
  {
   "cell_type": "markdown",
   "metadata": {},
   "source": [
    "Selecting the correct metric to use for our model is very important.\n",
    "Since our data is highly imbalanced, accuracy would not be a good metric to evaluate our models. \n",
    "Additionally, since we are dealing with a binary classification (either fraud or non-fraud) instead of probabilities, then we can rule out using metrics like AUC curve or PR score, which are more useful for probabilities.\n",
    "\n",
    "With imbalanced data, we should focus on using metrics such as precision, recall, or F1 score.\n",
    "\n",
    "The metric we use is dependent on the business problem. In our case, the impact of mislabeling a fraud transaction as nonFraud is much more damaging than having a nonFraud labeled as Fraud. Thus, using recall as a metric, (defined as TP / TP + FN) is what we will use. A secondary option would be to use F1 as a metric, which acts as a harmoic mean between precision and recall. This metric may be a better option to use in another business context."
   ]
  },
  {
   "cell_type": "markdown",
   "metadata": {},
   "source": [
    "### 5.2 Logistic_Regression"
   ]
  },
  {
   "cell_type": "code",
   "execution_count": 92,
   "metadata": {},
   "outputs": [],
   "source": [
    "# We can scale our numeric columns\n",
    "\n",
    "numeric_features = ['amount', 'oldbalanceOrg','newbalanceOrig','oldbalanceDest','newbalanceDest', 'errorBalanceOrg', 'errorBalanceDest']\n",
    "numeric_transformer = Pipeline(steps=[(('scaler', StandardScaler()))])\n",
    "\n",
    "preprocessor = ColumnTransformer(transformers=[('num', numeric_transformer, numeric_features)])"
   ]
  },
  {
   "cell_type": "code",
   "execution_count": 93,
   "metadata": {},
   "outputs": [
    {
     "name": "stdout",
     "output_type": "stream",
     "text": [
      "{'usampler__sampling_strategy': 0.8}\n",
      "0.07098028188485558\n"
     ]
    }
   ],
   "source": [
    "lr = Pipeline(steps=[('preprocessor', preprocessor),\n",
    "                     ('usampler',RandomUnderSampler(random_state=42)),\n",
    "                     ('clf',LogisticRegression(random_state=42, class_weight = 'balanced'))])\n",
    "\n",
    "parameters = {'usampler__sampling_strategy': [0.5, 0.6,0.7,0.75,0.8,0.85]}\n",
    "\n",
    "lr_pipeline = GridSearchCV(lr,parameters,scoring='f1')\n",
    "\n",
    "# Once optimal parameters are found, we can time the model itself\n",
    "\n",
    "startfit2 = timer()\n",
    "lr_pipeline.fit(X_train, y_train)\n",
    "endfit2 = timer()\n",
    "starttest2 = timer()\n",
    "y_predlr = lr_pipeline.predict(X_test)\n",
    "endtest2 = timer()\n",
    "print(lr_pipeline.best_params_)\n",
    "print(lr_pipeline.best_score_)\n"
   ]
  },
  {
   "cell_type": "code",
   "execution_count": 94,
   "metadata": {},
   "outputs": [
    {
     "name": "stdout",
     "output_type": "stream",
     "text": [
      "              precision    recall  f1-score   support\n",
      "\n",
      "           0       0.93      1.00      0.97    773454\n",
      "           1       0.86      0.04      0.07     57669\n",
      "\n",
      "    accuracy                           0.93    831123\n",
      "   macro avg       0.90      0.52      0.52    831123\n",
      "weighted avg       0.93      0.93      0.90    831123\n",
      "\n",
      "[[773104    350]\n",
      " [ 55555   2114]]\n"
     ]
    }
   ],
   "source": [
    "print(classification_report(y_predlr, y_test))\n",
    "print(confusion_matrix(y_predlr, y_test))"
   ]
  },
  {
   "cell_type": "markdown",
   "metadata": {},
   "source": [
    "### 5.3 Decision_Tree"
   ]
  },
  {
   "cell_type": "code",
   "execution_count": 172,
   "metadata": {},
   "outputs": [
    {
     "name": "stdout",
     "output_type": "stream",
     "text": [
      "{'dt__max_depth': 3, 'sampler__sampling_strategy': 0.5}\n",
      "0.9773954676002067\n"
     ]
    }
   ],
   "source": [
    "dt = Pipeline([\n",
    "    ('sampler',RandomUnderSampler(random_state=42)),\n",
    "    ('dt',DecisionTreeClassifier(random_state=42, class_weight='balanced'))\n",
    "])\n",
    "\n",
    "parameters = {\n",
    "    'sampler__sampling_strategy': [0.5,0.6,0.7,0.75,0.8,0.85],\n",
    "    'dt__max_depth': [3,5,10]\n",
    "  }\n",
    "\n",
    "\n",
    "grid_pipeline1 = GridSearchCV(dt,parameters,scoring='f1',cv=5)\n",
    "\n",
    "startfit3 = timer()\n",
    "grid_pipeline1.fit(X_train, y_train)\n",
    "endfit3 = timer()\n",
    "starttest3 = timer()\n",
    "y_pred22 = grid_pipeline1.predict(X_test)\n",
    "endtest3 = timer()\n",
    "print(grid_pipeline1.best_params_)\n",
    "print(grid_pipeline1.best_score_)\n"
   ]
  },
  {
   "cell_type": "code",
   "execution_count": 173,
   "metadata": {},
   "outputs": [
    {
     "name": "stdout",
     "output_type": "stream",
     "text": [
      "              precision    recall  f1-score   support\n",
      "\n",
      "           0       1.00      1.00      1.00    828028\n",
      "           1       1.00      0.79      0.88      3095\n",
      "\n",
      "    accuracy                           1.00    831123\n",
      "   macro avg       1.00      0.90      0.94    831123\n",
      "weighted avg       1.00      1.00      1.00    831123\n",
      "\n",
      "[[828018     10]\n",
      " [   641   2454]]\n"
     ]
    }
   ],
   "source": [
    "print(classification_report(y_pred22, y_test))\n",
    "print(confusion_matrix(y_pred22, y_test))"
   ]
  },
  {
   "cell_type": "code",
   "execution_count": 174,
   "metadata": {},
   "outputs": [
    {
     "data": {
      "text/plain": [
       "<matplotlib.axes._subplots.AxesSubplot at 0x126670a4708>"
      ]
     },
     "execution_count": 174,
     "metadata": {},
     "output_type": "execute_result"
    },
    {
     "data": {
      "image/png": "[encoded data removed]",
      "text/plain": [
       "<Figure size 432x288 with 1 Axes>"
      ]
     },
     "metadata": {
      "needs_background": "light"
     },
     "output_type": "display_data"
    }
   ],
   "source": [
    "imp = pd.DataFrame({\"Variable\":list(X_train.columns),\"Importance\":grid_pipeline1.best_estimator_['dt'].feature_importances_})\n",
    "imp = imp.sort_values(\"Importance\",ascending=False)\n",
    "sns.barplot(x=imp.Importance.head(10),y=imp.Variable.head(10))"
   ]
  },
  {
   "cell_type": "markdown",
   "metadata": {},
   "source": [
    "### 5.4 Random_Forest_undersampled"
   ]
  },
  {
   "cell_type": "code",
   "execution_count": 98,
   "metadata": {},
   "outputs": [
    {
     "name": "stdout",
     "output_type": "stream",
     "text": [
      "{'rf__n_estimators': 100, 'sampler__sampling_strategy': 0.6}\n",
      "0.9637537371488101\n"
     ]
    }
   ],
   "source": [
    "rf = Pipeline([\n",
    "    ('sampler',RandomUnderSampler(random_state=42)),\n",
    "    ('rf',RandomForestClassifier(random_state=42))\n",
    "])\n",
    "\n",
    "parameters = {\n",
    "    'sampler__sampling_strategy': [0.5,0.6,0.7,0.75,0.8, 0.85,'majority'],\n",
    "    'rf__n_estimators':[1,10,100,200]}\n",
    "\n",
    "\n",
    "grid_pipeline1 = GridSearchCV(rf,parameters, scoring='f1')\n",
    "startfit4 = timer()\n",
    "grid_pipeline1.fit(X_train, y_train)\n",
    "endfit4 = timer()\n",
    "starttest = timer()\n",
    "y_predrf = grid_pipeline1.predict(X_test)\n",
    "endtest4 = timer()\n",
    "print(grid_pipeline1.best_params_)\n",
    "print(grid_pipeline1.best_score_)\n"
   ]
  },
  {
   "cell_type": "code",
   "execution_count": 99,
   "metadata": {},
   "outputs": [
    {
     "name": "stdout",
     "output_type": "stream",
     "text": [
      "              precision    recall  f1-score   support\n",
      "\n",
      "           0       1.00      1.00      1.00    828484\n",
      "           1       1.00      0.93      0.96      2639\n",
      "\n",
      "    accuracy                           1.00    831123\n",
      "   macro avg       1.00      0.97      0.98    831123\n",
      "weighted avg       1.00      1.00      1.00    831123\n",
      "\n",
      "[[828475      9]\n",
      " [   184   2455]]\n"
     ]
    }
   ],
   "source": [
    "print(classification_report(y_predrf, y_test))\n",
    "print(confusion_matrix(y_predrf, y_test))"
   ]
  },
  {
   "cell_type": "code",
   "execution_count": 100,
   "metadata": {},
   "outputs": [
    {
     "data": {
      "text/plain": [
       "Text(33.0, 0.5, 'actual')"
      ]
     },
     "execution_count": 100,
     "metadata": {},
     "output_type": "execute_result"
    },
    {
     "data": {
      "image/png": "[encoded data removed]",
      "text/plain": [
       "<Figure size 432x288 with 2 Axes>"
      ]
     },
     "metadata": {
      "needs_background": "light"
     },
     "output_type": "display_data"
    }
   ],
   "source": [
    "cf_matrix = metrics.confusion_matrix(y_predrf, y_test)\n",
    "fig, ax = plt.subplots(figsize=(6,4))\n",
    "sns.heatmap(cf_matrix, annot=True, cmap='YlGnBu')\n",
    "plt.xlabel(\"predicted\")\n",
    "plt.ylabel(\"actual\")"
   ]
  },
  {
   "cell_type": "markdown",
   "metadata": {},
   "source": [
    "### 5.5 Random_Forest_class_weight"
   ]
  },
  {
   "cell_type": "code",
   "execution_count": 101,
   "metadata": {},
   "outputs": [
    {
     "name": "stdout",
     "output_type": "stream",
     "text": [
      "{'rf__max_depth': 10, 'rf__n_estimators': 100}\n",
      "0.9956515684716388\n"
     ]
    }
   ],
   "source": [
    "rf = Pipeline([('rf',RandomForestClassifier(random_state=42, class_weight='balanced'))])\n",
    "\n",
    "parameters = {\n",
    "    'rf__n_estimators':[10,100],\n",
    "    'rf__max_depth': [10]}\n",
    "\n",
    "grid_pipeline3 = GridSearchCV(rf,parameters, scoring='recall')\n",
    "startfit5 = timer()\n",
    "grid_pipeline3.fit(X_train, y_train)\n",
    "endfit5 = timer()\n",
    "starttest5 = timer()\n",
    "y_predrf1 = grid_pipeline3.predict(X_test)\n",
    "endtest5 = timer()\n",
    "print(grid_pipeline3.best_params_)\n",
    "print(grid_pipeline3.best_score_)\n"
   ]
  },
  {
   "cell_type": "code",
   "execution_count": 102,
   "metadata": {},
   "outputs": [
    {
     "name": "stdout",
     "output_type": "stream",
     "text": [
      "              precision    recall  f1-score   support\n",
      "\n",
      "           0       1.00      1.00      1.00    828666\n",
      "           1       1.00      1.00      1.00      2457\n",
      "\n",
      "    accuracy                           1.00    831123\n",
      "   macro avg       1.00      1.00      1.00    831123\n",
      "weighted avg       1.00      1.00      1.00    831123\n",
      "\n",
      "[[828657      9]\n",
      " [     2   2455]]\n"
     ]
    }
   ],
   "source": [
    "print(classification_report(y_predrf1, y_test))\n",
    "print(confusion_matrix(y_predrf1, y_test))"
   ]
  },
  {
   "cell_type": "code",
   "execution_count": 103,
   "metadata": {},
   "outputs": [
    {
     "data": {
      "text/plain": [
       "Text(33.0, 0.5, 'actual')"
      ]
     },
     "execution_count": 103,
     "metadata": {},
     "output_type": "execute_result"
    },
    {
     "data": {
      "image/png": "[encoded data removed]",
      "text/plain": [
       "<Figure size 432x288 with 2 Axes>"
      ]
     },
     "metadata": {
      "needs_background": "light"
     },
     "output_type": "display_data"
    }
   ],
   "source": [
    "cf_matrix = metrics.confusion_matrix(y_predrf1, y_test)\n",
    "fig, ax = plt.subplots(figsize=(6,4))\n",
    "sns.heatmap(cf_matrix, annot=True, cmap='YlGnBu')\n",
    "plt.xlabel(\"predicted\")\n",
    "plt.ylabel(\"actual\")"
   ]
  },
  {
   "cell_type": "code",
   "execution_count": 104,
   "metadata": {},
   "outputs": [
    {
     "data": {
      "text/plain": [
       "<matplotlib.axes._subplots.AxesSubplot at 0x1260bdfdf88>"
      ]
     },
     "execution_count": 104,
     "metadata": {},
     "output_type": "execute_result"
    },
    {
     "data": {
      "image/png": "[encoded data removed]",
      "text/plain": [
       "<Figure size 432x288 with 1 Axes>"
      ]
     },
     "metadata": {
      "needs_background": "light"
     },
     "output_type": "display_data"
    }
   ],
   "source": [
    "imp = pd.DataFrame({\"Variable\":list(X_train.columns),\"Importance\":grid_pipeline3.best_estimator_['rf'].feature_importances_})\n",
    "imp = imp.sort_values(\"Importance\",ascending=False)\n",
    "sns.barplot(x=imp.Importance.head(10),y=imp.Variable.head(10))"
   ]
  },
  {
   "cell_type": "markdown",
   "metadata": {},
   "source": [
    "### 5.6 Two_features"
   ]
  },
  {
   "cell_type": "code",
   "execution_count": 105,
   "metadata": {},
   "outputs": [],
   "source": [
    "# Here we see how the data with the features performs on the test set only, we use our best model (RF without undersampling)"
   ]
  },
  {
   "cell_type": "code",
   "execution_count": 106,
   "metadata": {},
   "outputs": [],
   "source": [
    "cols = ['coupled', 'errorBalanceOrg']\n",
    "X2 = df1[cols]\n",
    "y2 = df1.loc[:, df1.columns == target]\n",
    "\n",
    "\n",
    "X2train, X2test, y2train, y2test = train_test_split(X2,y2, test_size = 0.3, random_state = 42, stratify = df1[\"isFraud\"])\n"
   ]
  },
  {
   "cell_type": "code",
   "execution_count": 107,
   "metadata": {},
   "outputs": [
    {
     "name": "stdout",
     "output_type": "stream",
     "text": [
      "{'rf__max_depth': 10, 'rf__n_estimators': 10}\n",
      "0.23391376439130623\n"
     ]
    }
   ],
   "source": [
    "rf = Pipeline([('rf',RandomForestClassifier(random_state=42, class_weight='balanced'))])\n",
    "\n",
    "parameters = {\n",
    "    'rf__n_estimators':[10],\n",
    "    'rf__max_depth': [10]}\n",
    "\n",
    "grid_pipeline5 = GridSearchCV(rf,parameters, scoring='f1')\n",
    "startfit6 = timer()\n",
    "grid_pipeline5.fit(X2train, y2train)\n",
    "endfit6 = timer()\n",
    "starttest6 = timer()\n",
    "y_predrf12 = grid_pipeline5.predict(X2test)\n",
    "endtest6 = timer()\n",
    "print(grid_pipeline5.best_params_)\n",
    "print(grid_pipeline5.best_score_)\n"
   ]
  },
  {
   "cell_type": "code",
   "execution_count": 108,
   "metadata": {},
   "outputs": [
    {
     "name": "stdout",
     "output_type": "stream",
     "text": [
      "              precision    recall  f1-score   support\n",
      "\n",
      "           0       0.98      1.00      0.99    812747\n",
      "           1       0.99      0.13      0.24     18376\n",
      "\n",
      "    accuracy                           0.98    831123\n",
      "   macro avg       0.99      0.57      0.61    831123\n",
      "weighted avg       0.98      0.98      0.97    831123\n",
      "\n",
      "[[812733     14]\n",
      " [ 15926   2450]]\n"
     ]
    }
   ],
   "source": [
    "print(classification_report(y_predrf12, y2test))\n",
    "print(confusion_matrix(y_predrf12, y2test))"
   ]
  },
  {
   "cell_type": "code",
   "execution_count": 109,
   "metadata": {},
   "outputs": [
    {
     "data": {
      "text/plain": [
       "<matplotlib.axes._subplots.AxesSubplot at 0x12666479b48>"
      ]
     },
     "execution_count": 109,
     "metadata": {},
     "output_type": "execute_result"
    },
    {
     "data": {
      "image/png": "[encoded data removed]",
      "text/plain": [
       "<Figure size 432x288 with 1 Axes>"
      ]
     },
     "metadata": {
      "needs_background": "light"
     },
     "output_type": "display_data"
    }
   ],
   "source": [
    "imp = pd.DataFrame({\"Variable\":list(X2train.columns),\"Importance\":grid_pipeline5.best_estimator_['rf'].feature_importances_})\n",
    "imp = imp.sort_values(\"Importance\",ascending=False)\n",
    "sns.barplot(x=imp.Importance.head(10),y=imp.Variable.head(10))"
   ]
  },
  {
   "cell_type": "markdown",
   "metadata": {},
   "source": [
    "### 5.7 Gradient_Boosting"
   ]
  },
  {
   "cell_type": "code",
   "execution_count": 110,
   "metadata": {},
   "outputs": [
    {
     "name": "stdout",
     "output_type": "stream",
     "text": [
      "{'sampler__sampling_strategy': 0.5, 'xgb__n_estimators': 100}\n",
      "0.9626662759689477\n"
     ]
    }
   ],
   "source": [
    "xgb = Pipeline([\n",
    "    ('sampler',RandomUnderSampler(random_state=42)),\n",
    "    ('xgb',GradientBoostingClassifier(random_state=42, max_features='sqrt'))\n",
    "    ])\n",
    "\n",
    "parameters = {\n",
    "    'sampler__sampling_strategy': [0.5,0.6, 0.7, 0.75, 0.8, 0.85],\n",
    "    'xgb__n_estimators': [1, 100, 500]\n",
    "}\n",
    "\n",
    "grid_pipeline = GridSearchCV(xgb,parameters, scoring='f1')\n",
    "startfit7 = timer()\n",
    "grid_pipeline.fit(X_train, y_train)\n",
    "endfit7 = timer()\n",
    "starttest7 = timer()\n",
    "y_pred_gb = grid_pipeline.predict(X_test)\n",
    "endtest7 = timer()\n",
    "print(grid_pipeline.best_params_)\n",
    "print(grid_pipeline.best_score_)\n"
   ]
  },
  {
   "cell_type": "code",
   "execution_count": 111,
   "metadata": {},
   "outputs": [
    {
     "name": "stdout",
     "output_type": "stream",
     "text": [
      "              precision    recall  f1-score   support\n",
      "\n",
      "           0       1.00      1.00      1.00    828465\n",
      "           1       1.00      0.92      0.96      2658\n",
      "\n",
      "    accuracy                           1.00    831123\n",
      "   macro avg       1.00      0.96      0.98    831123\n",
      "weighted avg       1.00      1.00      1.00    831123\n",
      "\n",
      "[[828457      8]\n",
      " [   202   2456]]\n"
     ]
    }
   ],
   "source": [
    "print(classification_report(y_pred_gb, y_test))\n",
    "print(confusion_matrix(y_pred_gb, y_test))"
   ]
  },
  {
   "cell_type": "code",
   "execution_count": 112,
   "metadata": {},
   "outputs": [
    {
     "data": {
      "text/plain": [
       "Text(33.0, 0.5, 'actual')"
      ]
     },
     "execution_count": 112,
     "metadata": {},
     "output_type": "execute_result"
    },
    {
     "data": {
      "image/png": "[encoded data removed]",
      "text/plain": [
       "<Figure size 432x288 with 2 Axes>"
      ]
     },
     "metadata": {
      "needs_background": "light"
     },
     "output_type": "display_data"
    }
   ],
   "source": [
    "cf_matrix = metrics.confusion_matrix(y_pred_gb, y_test)\n",
    "fig, ax = plt.subplots(figsize=(6,4))\n",
    "sns.heatmap(cf_matrix, annot=True, cmap='YlGnBu')\n",
    "plt.xlabel(\"predicted\")\n",
    "plt.ylabel(\"actual\")"
   ]
  },
  {
   "cell_type": "code",
   "execution_count": 113,
   "metadata": {},
   "outputs": [
    {
     "data": {
      "text/plain": [
       "<matplotlib.axes._subplots.AxesSubplot at 0x12666de0808>"
      ]
     },
     "execution_count": 113,
     "metadata": {},
     "output_type": "execute_result"
    },
    {
     "data": {
      "image/png": "[encoded data removed]",
      "text/plain": [
       "<Figure size 432x288 with 1 Axes>"
      ]
     },
     "metadata": {
      "needs_background": "light"
     },
     "output_type": "display_data"
    }
   ],
   "source": [
    "imp = pd.DataFrame({\"Variable\":list(X_train.columns),\"Importance\":grid_pipeline.best_estimator_['xgb'].feature_importances_})\n",
    "imp = imp.sort_values(\"Importance\",ascending=False)\n",
    "sns.barplot(x=imp.Importance.head(10),y=imp.Variable.head(10))"
   ]
  },
  {
   "cell_type": "markdown",
   "metadata": {},
   "source": [
    "# 6. Model_evaluation"
   ]
  },
  {
   "cell_type": "markdown",
   "metadata": {},
   "source": [
    "In classification problems such as this, accuracy is not the best metric to use in order to evaluate model performance. As mentioned before, in our business problem, focusing on recall score would be a much better metric to use.\n"
   ]
  },
  {
   "cell_type": "code",
   "execution_count": 114,
   "metadata": {},
   "outputs": [],
   "source": [
    "from sklearn.metrics import recall_score"
   ]
  },
  {
   "cell_type": "markdown",
   "metadata": {},
   "source": [
    "#### Winning model"
   ]
  },
  {
   "cell_type": "code",
   "execution_count": 116,
   "metadata": {},
   "outputs": [],
   "source": [
    "### Model performance comparisons\n",
    "model_type = ['Dummy_classifier', 'Logistic_regression', 'Decision_Tree', 'RF_us', 'RF_no_us', 'RF_2_feat', 'Gradient_Boosting']\n",
    "recall_scores = [recall_score(ypred, y1test), recall_score(y_predlr, y_test), recall_score(y_pred22, y_test), \n",
    "                recall_score(y_predrf, y_test), recall_score(y_predrf1, y_test), recall_score(y_predrf12, y2test), recall_score(y_pred_gb, y_test)]\n",
    "fit_times = [endfit1 - startfit1, endfit2 - startfit2, endfit3 - startfit3, endfit4 - startfit4, endfit5 - startfit5,\n",
    "            endfit6 - startfit6, endfit7 - startfit7]\n",
    "test_times = [endtest1 - starttest1,endtest2 - starttest2,endtest3 - starttest3,endtest4 - starttest,endtest5 - starttest5,\n",
    "             endtest6 - starttest6,endtest7 - starttest7]"
   ]
  },
  {
   "cell_type": "code",
   "execution_count": 159,
   "metadata": {},
   "outputs": [
    {
     "data": {
      "text/html": [
       "<div>\n",
       "<style scoped>\n",
       "    .dataframe tbody tr th:only-of-type {\n",
       "        vertical-align: middle;\n",
       "    }\n",
       "\n",
       "    .dataframe tbody tr th {\n",
       "        vertical-align: top;\n",
       "    }\n",
       "\n",
       "    .dataframe thead th {\n",
       "        text-align: right;\n",
       "    }\n",
       "</style>\n",
       "<table border=\"1\" class=\"dataframe\">\n",
       "  <thead>\n",
       "    <tr style=\"text-align: right;\">\n",
       "      <th></th>\n",
       "      <th>Recall_score</th>\n",
       "      <th>fit_time</th>\n",
       "      <th>test_time</th>\n",
       "    </tr>\n",
       "  </thead>\n",
       "  <tbody>\n",
       "    <tr>\n",
       "      <th>Dummy_classifier</th>\n",
       "      <td>0.001610</td>\n",
       "      <td>0.077906</td>\n",
       "      <td>0.027585</td>\n",
       "    </tr>\n",
       "    <tr>\n",
       "      <th>Logistic_regression</th>\n",
       "      <td>0.036657</td>\n",
       "      <td>30.685976</td>\n",
       "      <td>0.073037</td>\n",
       "    </tr>\n",
       "    <tr>\n",
       "      <th>Decision_Tree</th>\n",
       "      <td>0.792892</td>\n",
       "      <td>67.197832</td>\n",
       "      <td>0.089767</td>\n",
       "    </tr>\n",
       "    <tr>\n",
       "      <th>RF_us</th>\n",
       "      <td>0.930277</td>\n",
       "      <td>416.678223</td>\n",
       "      <td>5.023380</td>\n",
       "    </tr>\n",
       "    <tr>\n",
       "      <th>RF_no_us</th>\n",
       "      <td>0.999186</td>\n",
       "      <td>1509.206884</td>\n",
       "      <td>5.154136</td>\n",
       "    </tr>\n",
       "    <tr>\n",
       "      <th>RF_2_feat</th>\n",
       "      <td>0.133326</td>\n",
       "      <td>120.008560</td>\n",
       "      <td>0.560250</td>\n",
       "    </tr>\n",
       "    <tr>\n",
       "      <th>Gradient_Boosting</th>\n",
       "      <td>0.924003</td>\n",
       "      <td>236.461163</td>\n",
       "      <td>1.014228</td>\n",
       "    </tr>\n",
       "  </tbody>\n",
       "</table>\n",
       "</div>"
      ],
      "text/plain": [
       "                     Recall_score     fit_time  test_time\n",
       "Dummy_classifier         0.001610     0.077906   0.027585\n",
       "Logistic_regression      0.036657    30.685976   0.073037\n",
       "Decision_Tree            0.792892    67.197832   0.089767\n",
       "RF_us                    0.930277   416.678223   5.023380\n",
       "RF_no_us                 0.999186  1509.206884   5.154136\n",
       "RF_2_feat                0.133326   120.008560   0.560250\n",
       "Gradient_Boosting        0.924003   236.461163   1.014228"
      ]
     },
     "execution_count": 159,
     "metadata": {},
     "output_type": "execute_result"
    }
   ],
   "source": [
    "c = pd.DataFrame(fit_times, index= model_type, columns = ['fit_time'])\n",
    "t = pd.DataFrame(test_times, index= model_type, columns = ['test_time'])\n",
    "x = pd.DataFrame(recall_scores, index = model_type, columns= ['Recall_score'])\n",
    "x.join(c).join(t)"
   ]
  },
  {
   "cell_type": "markdown",
   "metadata": {},
   "source": [
    "We see that the most accurate algorithm is by far the most computationally intensive. While the fit times have a lot to do with the hyperparameter tuning and can be changed, the test times show the performance of the model using the best parameters. \n",
    "\n",
    "The decision to make depends on what we value more, computation time or accuracy.\n",
    "If accuracy is what we look for then random forest would be the choice. If its a combination of accuracy and speed, then gradient boosting would be the choice model."
   ]
  },
  {
   "cell_type": "markdown",
   "metadata": {},
   "source": [
    "In our business context we are focusing on minimizing the number of fraud transactions that are misclassified as non-fraud. Thus, as mentioned earlier, we focus on recall score. In another context, f1 may be a good score to use to optimize the misclassified transactions overall, including both precision and recall."
   ]
  },
  {
   "cell_type": "markdown",
   "metadata": {},
   "source": [
    "For instance, if we wanted to optimize the number of non-Frauds misclassified as fraud (precision), several models would be useful here. The decision tree, random forest, and gradient boosted model all have 1.0 precision values.\n",
    "\n",
    "In our case however, for recall optimization, we see that the random forest model outperforms the rest, only mislabeling 2 fraud transactions as non fraud. We can take a look at the confusion matrix of that model here:\n",
    "\n",
    "It is possible that the class weight metric of the random forest combats the imbalance data issue and may exmplain why the random forest without undersampling performs better than the other models."
   ]
  },
  {
   "cell_type": "code",
   "execution_count": 66,
   "metadata": {},
   "outputs": [
    {
     "data": {
      "text/plain": [
       "Text(33.0, 0.5, 'actual')"
      ]
     },
     "execution_count": 66,
     "metadata": {},
     "output_type": "execute_result"
    },
    {
     "data": {
      "image/png": "[encoded data removed]",
      "text/plain": [
       "<Figure size 432x288 with 2 Axes>"
      ]
     },
     "metadata": {
      "needs_background": "light"
     },
     "output_type": "display_data"
    }
   ],
   "source": [
    "cf_matrix = metrics.confusion_matrix(y_predrf1, y_test)\n",
    "fig, ax = plt.subplots(figsize=(6,4))\n",
    "sns.heatmap(cf_matrix, annot=True, cmap='YlGnBu')\n",
    "plt.xlabel(\"predicted\")\n",
    "plt.ylabel(\"actual\")"
   ]
  },
  {
   "cell_type": "markdown",
   "metadata": {},
   "source": [
    "# 7. Conclusion"
   ]
  },
  {
   "cell_type": "markdown",
   "metadata": {},
   "source": [
    "Models can always be optimized. The tradeoff is that tuning parameters using CV algorithms such as GridSearchCV comes with the heavy cost of computation time. There may be parameters that produce much better results than our winning model, however, the decision we make for the business is that those steps need not be taken. The winning model is accurate enough and satisfies our business goals. \n",
    "\n",
    "Our winning model classifies 2455 out of 2457 fraud correctly from our test set and 828657 out of 828666 nonFrauds correctly. Implementing this model into our system would drastically improve fraud detection rate and help retain existing customers and incentivize new customers to join. \n",
    "Had our winning model been in place, it would have detected 8206 of the 8213 frauds and prevented the loss of over $3.6 billion."
   ]
  }
 ],
 "metadata": {
  "kernelspec": {
   "display_name": "Python 3",
   "language": "python",
   "name": "python3"
  },
  "language_info": {
   "codemirror_mode": {
    "name": "ipython",
    "version": 3
   },
   "file_extension": ".py",
   "mimetype": "text/x-python",
   "name": "python",
   "nbconvert_exporter": "python",
   "pygments_lexer": "ipython3",
   "version": "3.7.4"
  }
 },
 "nbformat": 4,
 "nbformat_minor": 2
}
